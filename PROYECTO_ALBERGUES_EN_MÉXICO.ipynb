# -*- coding: utf-8 -*-
"""PROYECTO_ALBERGUES_EN_MÉXICO - Ajustado para despliegue"""

# --- LIMPIAR CONSOLA EN PRODUCCIÓN ---
import sys
import os

if os.environ.get('ENV') == 'production':
    sys.stdout = sys.stderr = open(os.devnull, 'w')

# --- INSTALAR LIBRERÍAS ---
!pip install folium pandas ipywidgets branca --quiet

# --- IMPORTAR LIBRERÍAS ---
import pandas as pd
import folium
from folium.plugins import MarkerCluster
import ipywidgets as widgets
from IPython.display import display, clear_output, HTML

# --- URL HOJA “Albergues” ---
url = "https://docs.google.com/spreadsheets/d/e/2PACX-1vQXDVn23Cp8Obiw7FQrebnVGgqza6dw5RIP9EKfVhvfjd2Psh0BFtU9H_p2AMzjKkU5-YNEXaJqf5bF/pub?gid=1542986716&single=true&output=csv"

# --- LEER DATOS ---
albergues = pd.read_csv(url)
albergues.columns = albergues.columns.str.strip().str.lower()
albergues['latitud'] = pd.to_numeric(albergues['latitud'], errors='coerce')
albergues['longitud'] = pd.to_numeric(albergues['longitud'], errors='coerce')
albergues = albergues.dropna(subset=['latitud','longitud'])

# --- CENTRO DEL MAPA ---
lat_mean = albergues['latitud'].mean()
lon_mean = albergues['longitud'].mean()

# --- FUNCIÓN PARA CREAR MAPA ---
def crear_mapa(entidad_sel, municipios_sel, busqueda):
    m = folium.Map(
        location=[lat_mean, lon_mean],
        zoom_start=6,
        tiles='CartoDB Dark_Matter',  # Fondo negro
        width='100%',
        height=700
    )
    marker_cluster = MarkerCluster().add_to(m)

    df = albergues.copy()
    if entidad_sel:
        df = df[df['entidad federativa'].isin(entidad_sel)]
    if municipios_sel:
        df = df[df['municipio'].isin(municipios_sel)]
    if busqueda:
        df = df[df['nombre albergue'].str.contains(busqueda, case=False, na=False)]

    for _, row in df.iterrows():
        google_maps_url = f"https://www.google.com/maps/search/?api=1&query={row['latitud']},{row['longitud']}"
        popup_html = f"""
        <div style="
            font-family: Montserrat, Arial;
            font-size: 13px;
            color: #fff;
            background-color: #1e1e1e;
            border-radius: 10px;
            padding: 10px 12px;
            box-shadow: 0px 3px 10px rgba(0,0,0,0.6);
            width: 250px;
        ">
            <div style="font-size:15px; color:#00FFCC; font-weight:bold;">
                {row['nombre albergue']}
            </div>
            <hr style="border:none; border-top:1px solid #444; margin:4px 0;">
            <b>Entidad:</b> {row['entidad federativa']}<br>
            <b>Municipio:</b> {row['municipio']}<br>
            <b>Dirección:</b> {row['dirección']}<br>
            <a href="{google_maps_url}" target="_blank" style="
                display:inline-block;
                background-color:#00796B;
                color:white;
                padding:6px 10px;
                text-decoration:none;
                border-radius:5px;
                font-size:12px;
            ">📍 ¿Cómo llegar?</a>
        </div>
        """
        folium.CircleMarker(
            location=[row['latitud'], row['longitud']],
            radius=7,
            color='#00FFCC',
            fill=True,
            fill_color='#00FFCC',
            fill_opacity=0.9,
            popup=folium.Popup(popup_html, max_width=300)
        ).add_to(marker_cluster)
    return m

# --- INTERFAZ DE FILTROS ---
entidades = sorted(albergues['entidad federativa'].unique())
municipios = sorted(albergues['municipio'].unique())

label_entidad = widgets.HTML("<b style='font-family:Montserrat; color:#00FFCC;'>Selecciona por estado:</b>")
dropdown_entidad = widgets.SelectMultiple(
    options=entidades,
    layout=widgets.Layout(width='100%', height='150px')
)

label_municipio = widgets.HTML("<b style='font-family:Montserrat; color:#00FFCC;'>O selecciona por municipio:</b>")
dropdown_municipio = widgets.SelectMultiple(
    options=municipios,
    layout=widgets.Layout(width='100%', height='150px')
)

text_busqueda = widgets.Text(
    placeholder='🔍 Buscar por nombre de albergue',
    layout=widgets.Layout(width='100%')
)

output = widgets.Output(layout=widgets.Layout(width='100%', height='700px'))

# --- ACTUALIZAR MUNICIPIOS SEGÚN ENTIDAD ---
def actualizar_municipios(change):
    entidades_selec = list(dropdown_entidad.value)
    if entidades_selec:
        municipios_filtrados = sorted(albergues[albergues['entidad federativa'].isin(entidades_selec)]['municipio'].unique())
    else:
        municipios_filtrados = sorted(albergues['municipio'].unique())
    dropdown_municipio.options = municipios_filtrados

dropdown_entidad.observe(actualizar_municipios, names='value')

# --- ACTUALIZAR MAPA ---
def actualizar_mapa(change=None):
    with output:
        clear_output(wait=True)
        mapa = crear_mapa(list(dropdown_entidad.value), list(dropdown_municipio.value), text_busqueda.value)
        display(mapa)

        display(HTML("""
        <div style="text-align:center; margin-top:15px; font-family:Montserrat; font-size:13px; color:#aaa;">
            <hr style="border:none; border-top:1px solid #444; width:70%; margin:10px auto;">
            <p><b>Fuentes:</b><br>
            <a href='https://www.gob.mx' target='_blank' style='color:#00FFCC; text-decoration:none;'>Gobierno de México</a> |
            <a href='https://www.facebook.com/CNPCmx/' target='_blank' style='color:#00FFCC; text-decoration:none;'>Coordinación Nacional de Protección Civil</a> |
            <a href='https://www.gob.mx/reporteporlluvias/nav-zonas' target='_blank' style='color:#00FFCC; text-decoration:none;'>Reporte lluvias</a>
            </p>
        </div>
        """))

dropdown_entidad.observe(actualizar_mapa, names='value')
dropdown_municipio.observe(actualizar_mapa, names='value')
text_busqueda.observe(actualizar_mapa, names='value')

# --- ESTILO GLOBAL ---
display(HTML("""
<style>
@import url('https://fonts.googleapis.com/css2?family=Montserrat:wght@400;600&display=swap');

body {
    background-color: #1e1e1e;
    color: white;
    font-family: 'Montserrat', sans-serif;
}

h1 {
    color: #00FFCC;
    font-weight: 600;
}

p {
    color: #ccc;
}
</style>
"""))

# --- PANEL IZQUIERDO ---
panel_izquierdo = widgets.VBox([
    widgets.HTML("""
    <h1 style="text-align:left; margin-bottom:10px;">RED DE ALBERGUES EN MÉXICO</h1>
    <p style="font-size:15px; text-align:justify; max-width:400px;">
    El mapa permite localizar los albergues temporales activados por los gobiernos de los estados afectados por las lluvias en el país. 
    Si necesitas o conoces a alguien que requiere acceder a uno de los albergues, puedes dirigirte directamente mediante la opción "¿Cómo llegar?".
    </p>
    <hr style="border:none; border-top:1px solid #444; margin:10px 0;">
    """),
    label_entidad,
    dropdown_entidad,
    label_municipio,
    dropdown_municipio,
    text_busqueda
], layout=widgets.Layout(width='30%', padding='20px', background_color='#2b2b2b', border='1px solid #444', border_radius='10px'))

# --- MAPA (DERECHA) ---
mapa_container = widgets.VBox([output], layout=widgets.Layout(width='70%', padding='10px'))

# --- DISTRIBUCIÓN FINAL (IZQUIERDA PANEL / DERECHA MAPA) ---
display(widgets.HBox([panel_izquierdo, mapa_container], layout=widgets.Layout(width='100%', align_items='stretch')))

# --- MAPA INICIAL ---
with output:
    mapa_inicial = crear_mapa([], [], '')
    display(mapa_inicial)

    display(HTML("""
    <div style="text-align:center; margin-top:15px; font-family:Montserrat; font-size:13px; color:#aaa;">
        <hr style="border:none; border-top:1px solid #444; width:70%; margin:10px auto;">
        <p><b>Fuentes:</b><br>
        <a href='https://www.gob.mx' target='_blank' style='color:#00FFCC; text-decoration:none;'>Gobierno de México</a> |
        <a href='https://www.facebook.com/CNPCmx/' target='_blank' style='color:#00FFCC; text-decoration:none;'>Coordinación Nacional de Protección Civil</a> |
        <a href='https://www.gob.mx/reporteporlluvias/nav-zonas' target='_blank' style='color:#00FFCC; text-decoration:none;'>Reporte lluvias</a>
        </p>
    </div>
    """))
